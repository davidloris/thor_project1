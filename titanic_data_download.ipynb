{
 "cells": [
  {
   "cell_type": "markdown",
   "metadata": {},
   "source": [
    "# Introduction\n",
    "\n",
    "In this notebook I will try to download the Titanic data set using the kaggle api. I am following instructions I found [here](https://technowhisp.com/kaggle-api-python-documentation/)\n",
    "\n",
    "To summarize the main steps I am taking *prior* to starting work in this notebook:\n",
    "\n",
    "1. download the api key and place it in the required local directory\n",
    "2. use pip install to install the kaggle api\n",
    "3. join the titanic competition in kaggle (or else the api wont work)\n",
    "\n",
    "To summarze the main steps I am taking in this notebook:\n",
    "\n",
    "1. Run authentication to connect to kaggle api\n",
    "2. Search through the competitions for things of interest\n",
    "\n",
    "\n"
   ]
  },
  {
   "cell_type": "code",
   "execution_count": 2,
   "metadata": {},
   "outputs": [
    {
     "name": "stdout",
     "output_type": "stream",
     "text": [
      "Warning: Your Kaggle API key is readable by other users on this system! To fix this, you can run 'chmod 600 /Users/david/.kaggle/kaggle.json'\n",
      "Warning: Your Kaggle API key is readable by other users on this system! To fix this, you can run 'chmod 600 /Users/david/.kaggle/kaggle.json'\n"
     ]
    }
   ],
   "source": [
    "# here we run authentication\n",
    "from kaggle.api.kaggle_api_extended import KaggleApi\n",
    "api = KaggleApi()\n",
    "api.authenticate()"
   ]
  },
  {
   "cell_type": "code",
   "execution_count": 6,
   "metadata": {},
   "outputs": [
    {
     "name": "stdout",
     "output_type": "stream",
     "text": [
      "titanic,Knowledge,None\n"
     ]
    }
   ],
   "source": [
    "# run a test to see if it works\n",
    "competitions = api.competitions_list(search='titanic')\n",
    "\n",
    "for comp in competitions:\n",
    "    print(comp.ref,comp.reward,comp.userRank,sep=',')"
   ]
  },
  {
   "cell_type": "code",
   "execution_count": 7,
   "metadata": {},
   "outputs": [
    {
     "data": {
      "text/plain": [
       "[{'ref': 'test.csv',\n",
       "  'description': None,\n",
       "  'name': 'test.csv',\n",
       "  'totalBytes': 28629,\n",
       "  'url': 'https://www.kaggle.com/',\n",
       "  'creationDate': '2018-04-09T05:33:22.3963227Z'},\n",
       " {'ref': 'train.csv',\n",
       "  'description': None,\n",
       "  'name': 'train.csv',\n",
       "  'totalBytes': 61194,\n",
       "  'url': 'https://www.kaggle.com/',\n",
       "  'creationDate': '2018-04-09T05:33:22.3963227Z'},\n",
       " {'ref': 'gender_submission.csv',\n",
       "  'description': None,\n",
       "  'name': 'gender_submission.csv',\n",
       "  'totalBytes': 3258,\n",
       "  'url': 'https://www.kaggle.com/',\n",
       "  'creationDate': '2018-04-09T05:33:22.3963227Z'}]"
      ]
     },
     "execution_count": 7,
     "metadata": {},
     "output_type": "execute_result"
    }
   ],
   "source": [
    "#list the files for titanic\n",
    "api.competitions_data_list_files('titanic')"
   ]
  },
  {
   "cell_type": "code",
   "execution_count": 11,
   "metadata": {},
   "outputs": [
    {
     "name": "stderr",
     "output_type": "stream",
     "text": [
      "100%|██████████| 59.8k/59.8k [00:00<00:00, 3.36MB/s]"
     ]
    },
    {
     "name": "stdout",
     "output_type": "stream",
     "text": [
      "Downloading train.csv to /Users/david/Documents/thor_rules/thor_project1\n",
      "\n"
     ]
    },
    {
     "name": "stderr",
     "output_type": "stream",
     "text": [
      "\n",
      "100%|██████████| 28.0k/28.0k [00:00<00:00, 8.14MB/s]"
     ]
    },
    {
     "name": "stdout",
     "output_type": "stream",
     "text": [
      "Downloading test.csv to /Users/david/Documents/thor_rules/thor_project1\n",
      "\n"
     ]
    },
    {
     "name": "stderr",
     "output_type": "stream",
     "text": [
      "\n"
     ]
    }
   ],
   "source": [
    "#download the data set\n",
    "api.competition_download_file('titanic','train.csv')\n",
    "api.competition_download_file('titanic','test.csv')\n"
   ]
  },
  {
   "cell_type": "code",
   "execution_count": 10,
   "metadata": {},
   "outputs": [
    {
     "data": {
      "text/plain": [
       "[{'ref': 'train.csv',\n",
       "  'description': None,\n",
       "  'name': 'train.csv',\n",
       "  'totalBytes': 61194,\n",
       "  'url': 'https://www.kaggle.com/',\n",
       "  'creationDate': '2018-04-09T05:33:22.3963227Z'},\n",
       " {'ref': 'test.csv',\n",
       "  'description': None,\n",
       "  'name': 'test.csv',\n",
       "  'totalBytes': 28629,\n",
       "  'url': 'https://www.kaggle.com/',\n",
       "  'creationDate': '2018-04-09T05:33:22.3963227Z'},\n",
       " {'ref': 'gender_submission.csv',\n",
       "  'description': None,\n",
       "  'name': 'gender_submission.csv',\n",
       "  'totalBytes': 3258,\n",
       "  'url': 'https://www.kaggle.com/',\n",
       "  'creationDate': '2018-04-09T05:33:22.3963227Z'}]"
      ]
     },
     "execution_count": 10,
     "metadata": {},
     "output_type": "execute_result"
    }
   ],
   "source": [
    "api.competitions_data_list_files('titanic')"
   ]
  },
  {
   "cell_type": "code",
   "execution_count": null,
   "metadata": {},
   "outputs": [],
   "source": []
  }
 ],
 "metadata": {
  "kernelspec": {
   "display_name": "Python 3",
   "language": "python",
   "name": "python3"
  },
  "language_info": {
   "codemirror_mode": {
    "name": "ipython",
    "version": 3
   },
   "file_extension": ".py",
   "mimetype": "text/x-python",
   "name": "python",
   "nbconvert_exporter": "python",
   "pygments_lexer": "ipython3",
   "version": "3.7.6"
  }
 },
 "nbformat": 4,
 "nbformat_minor": 4
}
